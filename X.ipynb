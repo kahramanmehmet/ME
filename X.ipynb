{
  "nbformat": 4,
  "nbformat_minor": 0,
  "metadata": {
    "colab": {
      "provenance": [],
      "include_colab_link": true
    },
    "kernelspec": {
      "name": "python3",
      "display_name": "Python 3"
    },
    "language_info": {
      "name": "python"
    }
  },
  "cells": [
    {
      "cell_type": "markdown",
      "metadata": {
        "id": "view-in-github",
        "colab_type": "text"
      },
      "source": [
        "<a href=\"https://colab.research.google.com/github/mehmetkahramantr/ME/blob/main/X.ipynb\" target=\"_parent\"><img src=\"https://colab.research.google.com/assets/colab-badge.svg\" alt=\"Open In Colab\"/></a>"
      ]
    },
    {
      "cell_type": "markdown",
      "source": [
        "# Mini Games\n",
        "play with the code!"
      ],
      "metadata": {
        "id": "W9FWsV8GrKDw"
      }
    },
    {
      "cell_type": "code",
      "execution_count": null,
      "metadata": {
        "id": "gTxt2chpJ3ms"
      },
      "outputs": [],
      "source": [
        "# TenThousandTimesWithPython_19.07.2022_1/10.000\n",
        "\n",
        "# # Number Guessing Mini Game\n",
        "\n",
        "import random\n",
        "\n",
        "n = random.randrange(1, 10)\n",
        "guess = int(input(\"Enter any number among 1 to ten!: \"))\n",
        "\n",
        "while n != guess:\n",
        "    if guess < n:\n",
        "        print(\"Too low\")\n",
        "        guess = int(input(\"Enter number again: \"))\n",
        "    elif guess > n:\n",
        "        print(\"Too high\")\n",
        "        guess = int(input(\"Enter number again: \"))\n",
        "    else:\n",
        "        break\n",
        "print(\"You guessed it right!\")"
      ]
    },
    {
      "cell_type": "markdown",
      "source": [
        "# Puzzles"
      ],
      "metadata": {
        "id": "jrS2y8JErMdX"
      }
    },
    {
      "cell_type": "code",
      "source": [
        "# TenThousandTimesWithPython_19.07.2022_2/10.000\n",
        "\n",
        "# looping list inside\n",
        "\n",
        "elements = [1, 3, 2, 3, 0, 1, 3]\n",
        "\n",
        "for ie in elements:\n",
        "    pass\n",
        "    if (ie==0):\n",
        "      marie_cur = ie\n",
        "      break\n",
        "    elif (ie % 2 == 0):\n",
        "        continue\n",
        "    print(ie)\n",
        "print(marie_cur)"
      ],
      "metadata": {
        "id": "xFvuFkiy5kI0"
      },
      "execution_count": null,
      "outputs": []
    },
    {
      "cell_type": "markdown",
      "source": [
        "# Algorithms"
      ],
      "metadata": {
        "id": "xp2cJP3Browy"
      }
    },
    {
      "cell_type": "code",
      "source": [
        "# TenThousandTimesWithPython_19.07.2022_3/10.000\n",
        "\n",
        "# Insertion Sort\n",
        "\n",
        "primesArray=[3, 69, 89, 7, 97, 13, 71, 19, 73, 29, 83, 47, 37, 61,\n",
        "             41, 53, 59, 43, 67, 2, 17, 23, 31, 5, 11]\n",
        "def insertion_sort(primesArray):\n",
        "    for i in range(1, len(primesArray)):\n",
        "        key_item = primesArray[i]\n",
        "        j = i - 1\n",
        "        while j >= 0 and primesArray[j] > key_item:\n",
        "            primesArray[j + 1] = primesArray[j]\n",
        "            j -= 1\n",
        "        primesArray[j + 1] = key_item\n",
        "    return primesArray\n",
        "insertion_sort(primesArray)"
      ],
      "metadata": {
        "id": "P9ownBNd6PyH"
      },
      "execution_count": null,
      "outputs": []
    },
    {
      "cell_type": "markdown",
      "source": [
        "# Functional Machines"
      ],
      "metadata": {
        "id": "6NtSa8lCrpZm"
      }
    },
    {
      "cell_type": "code",
      "source": [
        "# TenThousandTimesWithPython_02.08.2022_4/10.000\n",
        "\n",
        "# define a function called bmi_calculator\n",
        "weight = 67\n",
        "height = 1.72\n",
        "def bmi_calculator(): \n",
        "    # return weight divided by height squared\n",
        "\treturn weight/(height**2)\n",
        "\n",
        "# declare a variable called \"result\" and\n",
        "# assign it the result of using the function \n",
        "# use height = 1.69 and weight = 69\n",
        "result = bmi_calculator()\n",
        "\n",
        "# print the \"result\" variable\n",
        "print(result)"
      ],
      "metadata": {
        "id": "8yI3uWzTRy46"
      },
      "execution_count": null,
      "outputs": []
    },
    {
      "cell_type": "code",
      "source": [
        "# TenThousandTimesWithPython_03.08.2022_5/10.000\n",
        "\n",
        "# Hackerrank Arrays solution:\n",
        "import numpy\n",
        "def arrays(arr):\n",
        "    # complete this function    \n",
        "    # use numpy.array\n",
        "    return(numpy.array(arr[::-1], float))    \n",
        "arr = input().strip().split(' ')\n",
        "result = arrays(arr)\n",
        "print(result)"
      ],
      "metadata": {
        "id": "uAkXOeW5PZxX"
      },
      "execution_count": null,
      "outputs": []
    },
    {
      "cell_type": "code",
      "source": [
        "# TenThousandTimesWithPython_11.11.2022_6/10.000\n",
        "\n",
        "# Basic Calculator\n",
        "\n",
        "def calc(x, y, operation):\n",
        "\n",
        "  if operation not in \"+-*/\":\n",
        "    return \"Lütfen şu işlemlerden birini seçiniz: +-*/\"\n",
        "\n",
        "  if operation == \"+\":\n",
        "    return (str(x)+\" + \"+str(y)+\" = \"+str(x+y))\n",
        "  if operation == \"-\":\n",
        "    return (str(x)+\" - \"+str(y)+\" = \"+str(x-y))\n",
        "  if operation == \"*\":\n",
        "    return (str(x)+\" * \"+str(y)+\" = \"+str(x*y))\n",
        "  if operation == \"/\":\n",
        "    return (str(x)+\" / \"+str(y)+\" = \"+str(x/y))\n",
        "while True:\n",
        "  try:\n",
        "    x = int(input(\"İlk sayıyı giriniz: \"))\n",
        "    y = int(input(\"İkinci sayıyı giriniz: \"))\n",
        "    operation = input(\"İşlem seçiniz: +-*/\")\n",
        "    print(calc(x, y, operation))\n",
        "  except:\n",
        "    print(\"Lütfen numerik bir değer girin.\")"
      ],
      "metadata": {
        "id": "6d7c1EYKwuEV"
      },
      "execution_count": null,
      "outputs": []
    },
    {
      "cell_type": "code",
      "source": [
        "# TenThousandTimesWithPython_11.11.2022_7/10.000\n",
        "\n",
        "# Password Generator is not a 'generator function!'\n",
        "import random\n",
        "import string\n",
        "\n",
        "def password_generator():\n",
        "  print('Hi, welcome to Password Generator!')\n",
        "\n",
        "  length = int(input(\"\\nPlease, enter length of password: \"))\n",
        "  lower = string.ascii_lowercase\n",
        "  upper = string.ascii_uppercase\n",
        "  digits = string.digits\n",
        "  symbols = string.punctuation\n",
        "\n",
        "  all = lower + upper + digits + symbols\n",
        "  #temp = random.sample(all, length)\n",
        "  password = ''.join(random.sample(all, length))\n",
        "  print(password)\n",
        "  return f\"Length of your password is: {len(password)}\"\n",
        "password_generator()"
      ],
      "metadata": {
        "id": "WPDjcUrCyDiQ"
      },
      "execution_count": null,
      "outputs": []
    },
    {
      "cell_type": "code",
      "source": [
        "# TenThousandTimesWithPython_20.12.2022_8/10.000\n",
        "\n",
        "# Hackerrank: https://www.hackerrank.com/challenges/np-concatenate/submissions/code/306136320\n",
        "\n",
        "import numpy as np\n",
        "t, m, p = map(int, input().split())\n",
        "a = [f'[{input()}]' for _ in range(t+m)]\n",
        "print('[' + '\\n '.join(a) + ']')"
      ],
      "metadata": {
        "id": "ILPp9T8VBmhL"
      },
      "execution_count": null,
      "outputs": []
    },
    {
      "cell_type": "markdown",
      "source": [
        "# Drafts"
      ],
      "metadata": {
        "id": "gY8T5sP1DDEJ"
      }
    },
    {
      "cell_type": "code",
      "source": [
        "!pip install qrcode\n",
        "import qrcode\n",
        "qr_img = qrcode.make(\"https://colab.research.google.com/drive/13piEtLwbxj6WSR56cEa3yUiw59QqWZBu#scrollTo=pWP8mit6RVt7\")\n",
        "qr_img.save(\"qr_Img.jpg\")\n",
        "file.open(\"qr_Img.jpg\", r)"
      ],
      "metadata": {
        "id": "pWP8mit6RVt7"
      },
      "execution_count": null,
      "outputs": []
    },
    {
      "cell_type": "code",
      "source": [
        "# define a function called reverseString that takes in one argument\n",
        "def reverseString(string):\n",
        "    # declare a variable with an empty string\n",
        "    empty = \"\"\n",
        "    # declare a variable containing the length of the string\n",
        "    length = len(empty)\n",
        "    # loop through a range function, where the first argument is 1 and second argument is length of the string (second variable) plus one\n",
        "    for um in range(1, length+1):\n",
        "    # get the negative index of the string, and add it to the first variable\n",
        "    \treturn empty + empty[::-1]\n",
        "    \n",
        "# test cases\n",
        "reverseString(\"Python\")\n",
        "reverseString(\"Hello world\")\n",
        "reverseString(\"Foobar\")"
      ],
      "metadata": {
        "id": "L8QzpriLaUxC"
      },
      "execution_count": null,
      "outputs": []
    },
    {
      "cell_type": "code",
      "source": [
        "import numpy as np\n",
        "\n",
        "x = np.zeros([3,8,8,5])"
      ],
      "metadata": {
        "id": "5IkItGulOldp"
      },
      "execution_count": null,
      "outputs": []
    },
    {
      "cell_type": "code",
      "source": [
        "import re\n",
        "#mylist = list[input()]\n",
        "mylist = [1,2,3,4,5,66,666,7]\n",
        "def PatternChaser(mylist):\n",
        "  mylist = [1,2,3,4,5,66,666,7]\n",
        "  x = map(int(mylist(), string))\n",
        "  # code goes here\n",
        "  res = re.findall(r\"[A-Za-z0-9]{3}\", x)\n",
        "  print(f\"yes\" + {res})\n",
        "  #return strParam\n",
        "\n",
        "# keep this function call here\n",
        "print(PatternChaser(mylist))\n",
        "PatternChaser(mylist)"
      ],
      "metadata": {
        "id": "jQToz1UAbcNZ"
      },
      "execution_count": null,
      "outputs": []
    },
    {
      "cell_type": "code",
      "source": [
        "def f(x, y=True):\n",
        "\n",
        "  if x%2==0:\n",
        "\n",
        "   y =False\n",
        "   return y\n",
        "  return y\n",
        "\n",
        "f(7,True)"
      ],
      "metadata": {
        "colab": {
          "base_uri": "https://localhost:8080/"
        },
        "id": "WUf-n5jhhco5",
        "outputId": "dc157fa4-06f0-4ece-f820-32eed3ac3c20"
      },
      "execution_count": null,
      "outputs": [
        {
          "output_type": "execute_result",
          "data": {
            "text/plain": [
              "True"
            ]
          },
          "metadata": {},
          "execution_count": 4
        }
      ]
    },
    {
      "cell_type": "code",
      "source": [
        "*x,y,z=(4,8,15,16,23,42)\n",
        "\n",
        "print(x)"
      ],
      "metadata": {
        "colab": {
          "base_uri": "https://localhost:8080/"
        },
        "id": "_TDFqlmViPUB",
        "outputId": "7ec9521b-465b-49df-c791-d37273d1d120"
      },
      "execution_count": null,
      "outputs": [
        {
          "output_type": "stream",
          "name": "stdout",
          "text": [
            "[4, 8, 15, 16]\n"
          ]
        }
      ]
    },
    {
      "cell_type": "code",
      "source": [
        "7.9+3"
      ],
      "metadata": {
        "colab": {
          "base_uri": "https://localhost:8080/"
        },
        "id": "ctQIrNFajGJ6",
        "outputId": "97f915ca-e7c8-4a53-ac6f-7c9dd742cc7a"
      },
      "execution_count": null,
      "outputs": [
        {
          "output_type": "execute_result",
          "data": {
            "text/plain": [
              "10.9"
            ]
          },
          "metadata": {},
          "execution_count": 13
        }
      ]
    },
    {
      "cell_type": "code",
      "source": [
        "\"Merhaba\"[1:10]"
      ],
      "metadata": {
        "colab": {
          "base_uri": "https://localhost:8080/",
          "height": 35
        },
        "id": "D0_9jNa4sCEe",
        "outputId": "d66bf922-6565-4ce7-d73e-4ef5de381dcb"
      },
      "execution_count": null,
      "outputs": [
        {
          "output_type": "execute_result",
          "data": {
            "text/plain": [
              "'erhaba'"
            ],
            "application/vnd.google.colaboratory.intrinsic+json": {
              "type": "string"
            }
          },
          "metadata": {},
          "execution_count": 14
        }
      ]
    },
    {
      "cell_type": "code",
      "source": [
        "i=2\n",
        "while[*map(print,(i,i+1,int(i**.4)))]:i+=2"
      ],
      "metadata": {
        "id": "5KYTNt0GsIgW"
      },
      "execution_count": null,
      "outputs": []
    },
    {
      "cell_type": "code",
      "source": [
        "first_List = [4, 12, 6]\n",
        "second_List = [5, 2, 19]\n",
        "third_List = [7, 2, 3]\n",
        "\n",
        "for fst in first_List:\n",
        "  for snd in second_List:\n",
        "    for trd in third_List:\n",
        "      if (fst * snd * trd == 24):\n",
        "        print(f' 1st: {fst} 2nd: {snd} 3rd: {trd}')"
      ],
      "metadata": {
        "colab": {
          "base_uri": "https://localhost:8080/"
        },
        "id": "q2foQRQWyNBD",
        "outputId": "9bede7b0-a68a-488f-d250-8499e0778582"
      },
      "execution_count": null,
      "outputs": [
        {
          "output_type": "stream",
          "name": "stdout",
          "text": [
            " 1st: 4 2nd: 2 3rd: 3\n",
            " 1st: 6 2nd: 2 3rd: 2\n"
          ]
        }
      ]
    },
    {
      "cell_type": "code",
      "source": [
        "first_List = [4, 12, 6]\n",
        "second_List = [5, 2, 19]\n",
        "third_List = [7, 2, 3]\n",
        "\n",
        "from itertools import product\n",
        "\n",
        "for fst, snd, trd in product(first_List, second_List, third_List):\n",
        "  if (fst * snd * trd == 24):\n",
        "    print(f' 1st: {fst} 2nd: {snd} 3rd: {trd}')"
      ],
      "metadata": {
        "colab": {
          "base_uri": "https://localhost:8080/"
        },
        "id": "IuYtJTT_C2bB",
        "outputId": "273343cf-1c01-4c6b-ea50-f0cd9d040760"
      },
      "execution_count": null,
      "outputs": [
        {
          "output_type": "stream",
          "name": "stdout",
          "text": [
            " 1st: 4 2nd: 2 3rd: 3\n",
            " 1st: 6 2nd: 2 3rd: 2\n"
          ]
        }
      ]
    }
  ]
}